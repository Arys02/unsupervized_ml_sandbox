{
 "cells": [
  {
   "cell_type": "code",
   "id": "initial_id",
   "metadata": {
    "collapsed": true,
    "ExecuteTime": {
     "end_time": "2025-07-17T11:38:15.563945Z",
     "start_time": "2025-07-17T11:38:14.549535Z"
    }
   },
   "source": [
    "from config import RAW_CARD_DIR\n",
    "import pandas as pd\n",
    "import os"
   ],
   "outputs": [
    {
     "name": "stderr",
     "output_type": "stream",
     "text": [
      "\u001B[32m2025-07-17 13:38:14.586\u001B[0m | \u001B[1mINFO    \u001B[0m | \u001B[36mconfig\u001B[0m:\u001B[36m<module>\u001B[0m:\u001B[36m9\u001B[0m - \u001B[1mPROJ_ROOT path is: /home/arys/projects/unsupervised_ml_experimentation\u001B[0m\n"
     ]
    }
   ],
   "execution_count": 1
  },
  {
   "metadata": {
    "ExecuteTime": {
     "end_time": "2025-07-17T11:38:15.640924Z",
     "start_time": "2025-07-17T11:38:15.615292Z"
    }
   },
   "cell_type": "code",
   "source": [
    "data = pd.read_csv(os.path.join(RAW_CARD_DIR, 'cards.csv'))\n",
    "data"
   ],
   "id": "bde06e2fbe98ed2f",
   "outputs": [
    {
     "data": {
      "text/plain": [
       "      class index                   filepaths         labels card type  \\\n",
       "0               0  train/ace of clubs/001.jpg   ace of clubs       ace   \n",
       "1               0  train/ace of clubs/002.jpg   ace of clubs       ace   \n",
       "2               0  train/ace of clubs/003.jpg   ace of clubs       ace   \n",
       "3               0  train/ace of clubs/004.jpg   ace of clubs       ace   \n",
       "4               0  train/ace of clubs/005.jpg   ace of clubs       ace   \n",
       "...           ...                         ...            ...       ...   \n",
       "8150           52   valid/two of spades/1.jpg  two of spades       two   \n",
       "8151           52   valid/two of spades/2.jpg  two of spades       two   \n",
       "8152           52   valid/two of spades/3.jpg  two of spades       two   \n",
       "8153           52   valid/two of spades/4.jpg  two of spades       two   \n",
       "8154           52   valid/two of spades/5.jpg  two of spades       two   \n",
       "\n",
       "     data set  \n",
       "0       train  \n",
       "1       train  \n",
       "2       train  \n",
       "3       train  \n",
       "4       train  \n",
       "...       ...  \n",
       "8150    valid  \n",
       "8151    valid  \n",
       "8152    valid  \n",
       "8153    valid  \n",
       "8154    valid  \n",
       "\n",
       "[8155 rows x 5 columns]"
      ],
      "text/html": [
       "<div>\n",
       "<style scoped>\n",
       "    .dataframe tbody tr th:only-of-type {\n",
       "        vertical-align: middle;\n",
       "    }\n",
       "\n",
       "    .dataframe tbody tr th {\n",
       "        vertical-align: top;\n",
       "    }\n",
       "\n",
       "    .dataframe thead th {\n",
       "        text-align: right;\n",
       "    }\n",
       "</style>\n",
       "<table border=\"1\" class=\"dataframe\">\n",
       "  <thead>\n",
       "    <tr style=\"text-align: right;\">\n",
       "      <th></th>\n",
       "      <th>class index</th>\n",
       "      <th>filepaths</th>\n",
       "      <th>labels</th>\n",
       "      <th>card type</th>\n",
       "      <th>data set</th>\n",
       "    </tr>\n",
       "  </thead>\n",
       "  <tbody>\n",
       "    <tr>\n",
       "      <th>0</th>\n",
       "      <td>0</td>\n",
       "      <td>train/ace of clubs/001.jpg</td>\n",
       "      <td>ace of clubs</td>\n",
       "      <td>ace</td>\n",
       "      <td>train</td>\n",
       "    </tr>\n",
       "    <tr>\n",
       "      <th>1</th>\n",
       "      <td>0</td>\n",
       "      <td>train/ace of clubs/002.jpg</td>\n",
       "      <td>ace of clubs</td>\n",
       "      <td>ace</td>\n",
       "      <td>train</td>\n",
       "    </tr>\n",
       "    <tr>\n",
       "      <th>2</th>\n",
       "      <td>0</td>\n",
       "      <td>train/ace of clubs/003.jpg</td>\n",
       "      <td>ace of clubs</td>\n",
       "      <td>ace</td>\n",
       "      <td>train</td>\n",
       "    </tr>\n",
       "    <tr>\n",
       "      <th>3</th>\n",
       "      <td>0</td>\n",
       "      <td>train/ace of clubs/004.jpg</td>\n",
       "      <td>ace of clubs</td>\n",
       "      <td>ace</td>\n",
       "      <td>train</td>\n",
       "    </tr>\n",
       "    <tr>\n",
       "      <th>4</th>\n",
       "      <td>0</td>\n",
       "      <td>train/ace of clubs/005.jpg</td>\n",
       "      <td>ace of clubs</td>\n",
       "      <td>ace</td>\n",
       "      <td>train</td>\n",
       "    </tr>\n",
       "    <tr>\n",
       "      <th>...</th>\n",
       "      <td>...</td>\n",
       "      <td>...</td>\n",
       "      <td>...</td>\n",
       "      <td>...</td>\n",
       "      <td>...</td>\n",
       "    </tr>\n",
       "    <tr>\n",
       "      <th>8150</th>\n",
       "      <td>52</td>\n",
       "      <td>valid/two of spades/1.jpg</td>\n",
       "      <td>two of spades</td>\n",
       "      <td>two</td>\n",
       "      <td>valid</td>\n",
       "    </tr>\n",
       "    <tr>\n",
       "      <th>8151</th>\n",
       "      <td>52</td>\n",
       "      <td>valid/two of spades/2.jpg</td>\n",
       "      <td>two of spades</td>\n",
       "      <td>two</td>\n",
       "      <td>valid</td>\n",
       "    </tr>\n",
       "    <tr>\n",
       "      <th>8152</th>\n",
       "      <td>52</td>\n",
       "      <td>valid/two of spades/3.jpg</td>\n",
       "      <td>two of spades</td>\n",
       "      <td>two</td>\n",
       "      <td>valid</td>\n",
       "    </tr>\n",
       "    <tr>\n",
       "      <th>8153</th>\n",
       "      <td>52</td>\n",
       "      <td>valid/two of spades/4.jpg</td>\n",
       "      <td>two of spades</td>\n",
       "      <td>two</td>\n",
       "      <td>valid</td>\n",
       "    </tr>\n",
       "    <tr>\n",
       "      <th>8154</th>\n",
       "      <td>52</td>\n",
       "      <td>valid/two of spades/5.jpg</td>\n",
       "      <td>two of spades</td>\n",
       "      <td>two</td>\n",
       "      <td>valid</td>\n",
       "    </tr>\n",
       "  </tbody>\n",
       "</table>\n",
       "<p>8155 rows × 5 columns</p>\n",
       "</div>"
      ]
     },
     "execution_count": 2,
     "metadata": {},
     "output_type": "execute_result"
    }
   ],
   "execution_count": 2
  },
  {
   "metadata": {
    "ExecuteTime": {
     "end_time": "2025-07-17T11:38:15.738162Z",
     "start_time": "2025-07-17T11:38:15.711493Z"
    }
   },
   "cell_type": "code",
   "source": "data_filepath = RAW_CARD_DIR / data['filepaths']",
   "id": "f6a1a9cde3a52ffb",
   "outputs": [],
   "execution_count": 3
  },
  {
   "metadata": {
    "ExecuteTime": {
     "end_time": "2025-07-17T11:38:15.805752Z",
     "start_time": "2025-07-17T11:38:15.800073Z"
    }
   },
   "cell_type": "code",
   "source": "data_filepath",
   "id": "edc31c26ccf9f911",
   "outputs": [
    {
     "data": {
      "text/plain": [
       "0       /home/arys/projects/unsupervised_ml_experiment...\n",
       "1       /home/arys/projects/unsupervised_ml_experiment...\n",
       "2       /home/arys/projects/unsupervised_ml_experiment...\n",
       "3       /home/arys/projects/unsupervised_ml_experiment...\n",
       "4       /home/arys/projects/unsupervised_ml_experiment...\n",
       "                              ...                        \n",
       "8150    /home/arys/projects/unsupervised_ml_experiment...\n",
       "8151    /home/arys/projects/unsupervised_ml_experiment...\n",
       "8152    /home/arys/projects/unsupervised_ml_experiment...\n",
       "8153    /home/arys/projects/unsupervised_ml_experiment...\n",
       "8154    /home/arys/projects/unsupervised_ml_experiment...\n",
       "Name: filepaths, Length: 8155, dtype: object"
      ]
     },
     "execution_count": 4,
     "metadata": {},
     "output_type": "execute_result"
    }
   ],
   "execution_count": 4
  },
  {
   "metadata": {
    "ExecuteTime": {
     "end_time": "2025-07-17T11:38:31.807189Z",
     "start_time": "2025-07-17T11:38:15.943015Z"
    }
   },
   "cell_type": "code",
   "source": [
    "from PIL import Image\n",
    "import numpy as np\n",
    "\n",
    "flat_images = []\n",
    "images = []\n",
    "target_size = (64, 64)\n",
    "\n",
    "for path in data_filepath:\n",
    "    if not os.path.exists(path):\n",
    "        print(f\"[WARNING] File not found: {path}\")\n",
    "        continue\n",
    "\n",
    "    try:\n",
    "        img = Image.open(path).convert('RGB')\n",
    "        images.append(img)# Assure 3 canaux\n",
    "        img = img.resize(target_size)\n",
    "        img_array = np.array(img)# Shape: (H, W, 3)\n",
    "\n",
    "        flat_array = img_array.flatten() # Shape: (H*W*3,)\n",
    "        flat_images.append(flat_array)\n",
    "    except Exception as e:\n",
    "        print(f\"[ERROR] Could not process {path}: {e}\")\n",
    "\n",
    "reshaped_images = np.array(flat_images)  # Shape: (n_images, H*W*3)"
   ],
   "id": "102837ec46e3520b",
   "outputs": [
    {
     "name": "stdout",
     "output_type": "stream",
     "text": [
      "[WARNING] File not found: /home/arys/projects/unsupervised_ml_experimentation/data/raw/archive/train/ace of clubs/output\n"
     ]
    }
   ],
   "execution_count": 5
  },
  {
   "metadata": {
    "ExecuteTime": {
     "end_time": "2025-07-17T11:38:33.791236Z",
     "start_time": "2025-07-17T11:38:31.965760Z"
    }
   },
   "cell_type": "code",
   "source": "normalized_reshaped_img = reshaped_images / 255.0",
   "id": "fcb9be216518feba",
   "outputs": [],
   "execution_count": 6
  },
  {
   "metadata": {
    "ExecuteTime": {
     "end_time": "2025-07-17T11:38:34.258482Z",
     "start_time": "2025-07-17T11:38:33.937987Z"
    }
   },
   "cell_type": "code",
   "source": [
    "from matplotlib import pyplot as plt\n",
    "\n",
    "\n",
    "def show_flattened_image(flat_array_in, image_shape=(64, 64, 3), show=False, normalize=False):\n",
    "    \"\"\"\n",
    "    flat_array : vecteur 1D (par exemple narr[1])\n",
    "    image_shape : tuple (H, W, C) pour reconstruire l’image\n",
    "\n",
    "    Affiche l’image.\n",
    "    \"\"\"\n",
    "\n",
    "    flat_array = flat_array_in * 255.0 if normalize else flat_array_in\n",
    "\n",
    "    expected_size = np.prod(image_shape)\n",
    "    if flat_array.shape[0] != expected_size:\n",
    "        raise ValueError(f\"Vector size {flat_array.shape[0]} does not match expected image shape {image_shape}.\")\n",
    "\n",
    "    # Reconstruction de l'image\n",
    "    img = flat_array.reshape(image_shape)\n",
    "    img = np.clip(img, 0, 255).astype(np.uint8)  # au cas où il y ait des valeurs hors de [0,255]\n",
    "\n",
    "    if show:\n",
    "        plt.imshow(img)\n",
    "        plt.axis('off')\n",
    "        plt.show()\n",
    "    return img"
   ],
   "id": "837025e251d558cb",
   "outputs": [],
   "execution_count": 7
  },
  {
   "metadata": {
    "ExecuteTime": {
     "end_time": "2025-07-17T11:38:34.288857Z",
     "start_time": "2025-07-17T11:38:34.276486Z"
    }
   },
   "cell_type": "code",
   "source": "images[100]",
   "id": "29f145492162f19c",
   "outputs": [
    {
     "data": {
      "text/plain": [
       "<PIL.Image.Image image mode=RGB size=224x224>"
      ],
      "image/png": "[encoded data removed]",
      "image/jpeg": "[encoded data removed]"
     },
     "execution_count": 8,
     "metadata": {},
     "output_type": "execute_result"
    }
   ],
   "execution_count": 8
  },
  {
   "metadata": {
    "ExecuteTime": {
     "end_time": "2025-07-17T11:38:34.385671Z",
     "start_time": "2025-07-17T11:38:34.332858Z"
    }
   },
   "cell_type": "code",
   "source": "show_flattened_image(normalized_reshaped_img[100], show=True, normalize=True)",
   "id": "e4f59917593f1a77",
   "outputs": [
    {
     "data": {
      "text/plain": [
       "<Figure size 640x480 with 1 Axes>"
      ],
      "image/png": "[encoded data removed]"
     },
     "metadata": {},
     "output_type": "display_data"
    },
    {
     "data": {
      "text/plain": [
       "array([[[  0,   0,   0],\n",
       "        [ 20,  19,  18],\n",
       "        [122, 119, 111],\n",
       "        ...,\n",
       "        [ 92,  91,  85],\n",
       "        [  8,   8,   9],\n",
       "        [  0,   0,   0]],\n",
       "\n",
       "       [[ 29,  26,  25],\n",
       "        [167, 163, 153],\n",
       "        [238, 232, 214],\n",
       "        ...,\n",
       "        [236, 235, 216],\n",
       "        [144, 144, 134],\n",
       "        [ 15,  15,  13]],\n",
       "\n",
       "       [[144, 141, 133],\n",
       "        [236, 232, 215],\n",
       "        [233, 228, 206],\n",
       "        ...,\n",
       "        [238, 235, 212],\n",
       "        [233, 232, 215],\n",
       "        [114, 112, 109]],\n",
       "\n",
       "       ...,\n",
       "\n",
       "       [[118, 118, 113],\n",
       "        [226, 227, 210],\n",
       "        [223, 222, 200],\n",
       "        ...,\n",
       "        [239, 234, 215],\n",
       "        [229, 226, 211],\n",
       "        [ 95,  93,  88]],\n",
       "\n",
       "       [[ 22,  22,  20],\n",
       "        [146, 146, 136],\n",
       "        [221, 222, 206],\n",
       "        ...,\n",
       "        [224, 222, 207],\n",
       "        [131, 129, 120],\n",
       "        [ 14,  14,  12]],\n",
       "\n",
       "       [[  0,   0,   2],\n",
       "        [  8,   8,   8],\n",
       "        [ 87,  86,  83],\n",
       "        ...,\n",
       "        [ 78,  78,  73],\n",
       "        [  2,   3,   2],\n",
       "        [  0,   0,   0]]], dtype=uint8)"
      ]
     },
     "execution_count": 9,
     "metadata": {},
     "output_type": "execute_result"
    }
   ],
   "execution_count": 9
  },
  {
   "metadata": {
    "ExecuteTime": {
     "end_time": "2025-07-17T11:38:35.742482Z",
     "start_time": "2025-07-17T11:38:34.470242Z"
    }
   },
   "cell_type": "code",
   "source": [
    "from config import PROCESSED_DATA_DIR\n",
    "\n",
    "np.save(PROCESSED_DATA_DIR / \"card_exploration.npy\", normalized_reshaped_img)"
   ],
   "id": "9eb78ec0e834d65f",
   "outputs": [],
   "execution_count": 10
  },
  {
   "metadata": {
    "ExecuteTime": {
     "end_time": "2025-07-18T09:47:44.621595Z",
     "start_time": "2025-07-18T09:47:39.700372Z"
    }
   },
   "cell_type": "code",
   "source": [
    "import numpy as np\n",
    "from config import PROCESSED_DATA_DIR\n",
    "crds = np.load(PROCESSED_DATA_DIR / \"card_exploration.npy\")"
   ],
   "id": "63e9c7dde5bfbf2f",
   "outputs": [
    {
     "name": "stderr",
     "output_type": "stream",
     "text": [
      "\u001B[32m2025-07-18 11:47:39.758\u001B[0m | \u001B[1mINFO    \u001B[0m | \u001B[36mconfig\u001B[0m:\u001B[36m<module>\u001B[0m:\u001B[36m9\u001B[0m - \u001B[1mPROJ_ROOT path is: /home/arys/projects/unsupervised_ml_experimentation\u001B[0m\n"
     ]
    }
   ],
   "execution_count": 3
  },
  {
   "metadata": {
    "ExecuteTime": {
     "end_time": "2025-07-18T09:47:53.596655Z",
     "start_time": "2025-07-18T09:47:53.587579Z"
    }
   },
   "cell_type": "code",
   "source": "crds.shape",
   "id": "6197cde2bce4abe3",
   "outputs": [
    {
     "data": {
      "text/plain": [
       "(8154, 12288)"
      ]
     },
     "execution_count": 5,
     "metadata": {},
     "output_type": "execute_result"
    }
   ],
   "execution_count": 5
  },
  {
   "metadata": {
    "ExecuteTime": {
     "end_time": "2025-07-18T09:50:35.501190Z",
     "start_time": "2025-07-18T09:50:35.215916Z"
    }
   },
   "cell_type": "code",
   "source": "",
   "id": "192737176f17f9bc",
   "outputs": [],
   "execution_count": 10
  },
  {
   "metadata": {
    "ExecuteTime": {
     "end_time": "2025-07-18T09:50:35.530512Z",
     "start_time": "2025-07-18T09:50:35.524424Z"
    }
   },
   "cell_type": "code",
   "source": "dataloadr = DataLoader(dataset, batch_size=64, shuffle=True)",
   "id": "26ca04966c76521e",
   "outputs": [],
   "execution_count": 11
  },
  {
   "metadata": {},
   "cell_type": "code",
   "outputs": [],
   "execution_count": null,
   "source": "",
   "id": "287301ae6daa12e2"
  }
 ],
 "metadata": {
  "kernelspec": {
   "display_name": "Python 3",
   "language": "python",
   "name": "python3"
  },
  "language_info": {
   "codemirror_mode": {
    "name": "ipython",
    "version": 2
   },
   "file_extension": ".py",
   "mimetype": "text/x-python",
   "name": "python",
   "nbconvert_exporter": "python",
   "pygments_lexer": "ipython2",
   "version": "2.7.6"
  }
 },
 "nbformat": 4,
 "nbformat_minor": 5
}
