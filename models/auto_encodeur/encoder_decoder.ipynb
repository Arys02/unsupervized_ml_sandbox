{
 "cells": [
  {
   "cell_type": "code",
   "id": "initial_id",
   "metadata": {
    "collapsed": true,
    "ExecuteTime": {
     "end_time": "2025-07-16T09:53:35.081063Z",
     "start_time": "2025-07-16T09:53:34.750760Z"
    }
   },
   "source": "#\n# This is a sample Notebook to demonstrate how to read \"MNIST_Dataset\"\n#\nimport numpy as np # linear algebra\nimport struct\nfrom array import array\nfrom os.path  import join\n\n#\n# MNIST Data Loader Class\n#\nclass MnistDataloader(object):\n    def __init__(self, training_images_filepath,training_labels_filepath,\n                 test_images_filepath, test_labels_filepath):\n        self.training_images_filepath = training_images_filepath\n        self.training_labels_filepath = training_labels_filepath\n        self.test_images_filepath = test_images_filepath\n        self.test_labels_filepath = test_labels_filepath\n\n    def read_images_labels(self, images_filepath, labels_filepath):\n        labels = []\n        with open(labels_filepath, 'rb') as file:\n            magic, size = struct.unpack(\">II\", file.read(8))\n            if magic != 2049:\n                raise ValueError('Magic number mismatch, expected 2049, got {}'.format(magic))\n            labels = array(\"B\", file.read())\n\n        with open(images_filepath, 'rb') as file:\n            magic, size, rows, cols = struct.unpack(\">IIII\", file.read(16))\n            if magic != 2051:\n                raise ValueError('Magic number mismatch, expected 2051, got {}'.format(magic))\n            image_data = array(\"B\", file.read())\n        images = []\n        for i in range(size):\n            images.append([0] * rows * cols)\n        for i in range(size):\n            img = np.array(image_data[i * rows * cols:(i + 1) * rows * cols])\n            img = img.reshape(28, 28)\n            images[i][:] = img\n\n        return images, labels\n\n    def load_data(self):\n        x_train, y_train = self.read_images_labels(self.training_images_filepath, self.training_labels_filepath)\n        x_test, y_test = self.read_images_labels(self.test_images_filepath, self.test_labels_filepath)\n        return (x_train, y_train),(x_test, y_test)\n#\n# Verify Reading Dataset via MnistDataloader class\n#\n%matplotlib inline\nimport random\nimport matplotlib.pyplot as plt\n\n#\n# Set file paths based on added MNIST Datasets\n#\ninput_path = '../../data/MNIST_Dataset'\ntraining_images_filepath = join(input_path, \"train-images.idx3-ubyte\")\ntraining_labels_filepath = join(input_path, \"train-labels.idx1-ubyte\")\ntest_images_filepath = join(input_path, \"t10k-images.idx3-ubyte\")\ntest_labels_filepath = join(input_path, \"t10k-labels.idx1-ubyte\")\n\n#\n# Helper function to show a list of images with their relating titles\n#\ndef show_images(images, title_texts):\n    cols = 5\n    rows = int(len(images)/cols) + 1\n    plt.figure(figsize=(30,20))\n    index = 1\n    for x in zip(images, title_texts):\n        image = x[0]\n        title_text = x[1]\n        plt.subplot(rows, cols, index)\n        plt.imshow(image, cmap=plt.cm.gray)\n        if (title_text != ''):\n            plt.title(title_text, fontsize = 15);\n        index += 1\n\n#\n# Load MINST dataset\n#\nmnist_dataloader = MnistDataloader(training_images_filepath, training_labels_filepath, test_images_filepath, test_labels_filepath)\n(x_train, y_train), (x_test, y_test) = mnist_dataloader.load_data()\n\n#\n# Show some random training and test images\n#\nimages_2_show = []\ntitles_2_show = []\nfor i in range(0, 10):\n    r = random.randint(1, 60000)\n    images_2_show.append(x_train[r])\n    titles_2_show.append('training image [' + str(r) + '] = ' + str(y_train[r]))\n\nfor i in range(0, 5):\n    r = random.randint(1, 10000)\n    images_2_show.append(x_test[r])\n    titles_2_show.append('test image [' + str(r) + '] = ' + str(y_test[r]))\n\nshow_images(images_2_show, titles_2_show)",
   "outputs": [],
   "execution_count": null
  },
  {
   "metadata": {},
   "cell_type": "code",
   "outputs": [],
   "execution_count": null,
   "source": "import tensorflow as tf\nfrom tensorflow.keras import layers, models\nimport numpy as np\n\n# Préparation des données pour l'auto-encodeur\nx_train = np.array(x_train).astype('float32') / 255.0\nx_test = np.array(x_test).astype('float32') / 255.0\n\n# Reshape pour flatten les images\nx_train = x_train.reshape((len(x_train), 28 * 28))\nx_test = x_test.reshape((len(x_test), 28 * 28))\n\nprint(f\"Shape des données d'entraînement: {x_train.shape}\")\nprint(f\"Shape des données de test: {x_test.shape}\")\n\n# Définition de l'architecture de l'auto-encodeur\nlatent_dim = 32  # Dimension de l'espace latent\n\n# Encodeur\nencoder = models.Sequential([\n    layers.Dense(128, activation='relu', input_shape=(784,)),\n    layers.Dense(64, activation='relu'),\n    layers.Dense(latent_dim, activation='relu', name='latent_space')\n])\n\n# Décodeur\ndecoder = models.Sequential([\n    layers.Dense(64, activation='relu', input_shape=(latent_dim,)),\n    layers.Dense(128, activation='relu'),\n    layers.Dense(784, activation='sigmoid')\n])\n\n# Auto-encodeur complet\nautoencoder = models.Sequential([encoder, decoder])\n\n# Compilation du modèle\nautoencoder.compile(optimizer='adam', loss='binary_crossentropy')\n\n# Affichage de l'architecture\nprint(\"Architecture de l'auto-encodeur:\")\nautoencoder.summary()",
   "id": "ce3ec950f667fabb"
  },
  {
   "cell_type": "code",
   "id": "o9vp5tod8kk",
   "source": "# Entraînement de l'auto-encodeur\nprint(\"Début de l'entraînement...\")\nhistory = autoencoder.fit(x_train, x_train,\n                         epochs=50,\n                         batch_size=256,\n                         shuffle=True,\n                         validation_data=(x_test, x_test),\n                         verbose=1)\n\n# Visualisation des pertes\nplt.figure(figsize=(12, 4))\nplt.subplot(1, 2, 1)\nplt.plot(history.history['loss'], label='Training Loss')\nplt.plot(history.history['val_loss'], label='Validation Loss')\nplt.title('Évolution de la perte')\nplt.xlabel('Époque')\nplt.ylabel('Perte')\nplt.legend()\n\nplt.subplot(1, 2, 2)\nplt.plot(history.history['loss'][-10:], label='Training Loss (10 dernières)')\nplt.plot(history.history['val_loss'][-10:], label='Validation Loss (10 dernières)')\nplt.title('Évolution de la perte (fin)')\nplt.xlabel('Époque')\nplt.ylabel('Perte')\nplt.legend()\n\nplt.tight_layout()\nplt.show()",
   "metadata": {},
   "execution_count": null,
   "outputs": []
  }
 ],
 "metadata": {
  "kernelspec": {
   "display_name": "Python 3",
   "language": "python",
   "name": "python3"
  },
  "language_info": {
   "codemirror_mode": {
    "name": "ipython",
    "version": 2
   },
   "file_extension": ".py",
   "mimetype": "text/x-python",
   "name": "python",
   "nbconvert_exporter": "python",
   "pygments_lexer": "ipython2",
   "version": "2.7.6"
  }
 },
 "nbformat": 4,
 "nbformat_minor": 5
}